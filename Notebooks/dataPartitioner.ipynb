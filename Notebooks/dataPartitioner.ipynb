{
 "cells": [
  {
   "cell_type": "code",
   "execution_count": 1,
   "metadata": {
    "collapsed": true
   },
   "outputs": [],
   "source": [
    "# generate a list of all files in folders named \"true\" and \"false\"\n",
    "# flagging those in \"true\" with the label 1\n",
    "# and those in any other folder with the label 0\n",
    "#\n",
    "# video cropping and extraction done previously using ffmpeg:\n",
    "#   ffmpeg -i t001.avi -filter:v \"crop=99:364:350:83\" t001_out.avi\n",
    "#   ffmpeg -i t001_out.avi -f image2 t001_%04d.png"
   ]
  },
  {
   "cell_type": "code",
   "execution_count": 2,
   "metadata": {
    "collapsed": true
   },
   "outputs": [],
   "source": [
    "# import required dependencies\n",
    "from os import listdir, getcwd, mkdir\n",
    "from os.path import isfile, isdir\n",
    "import numpy as np\n",
    "import pandas as pd\n",
    "from shutil import copy2"
   ]
  },
  {
   "cell_type": "code",
   "execution_count": 3,
   "metadata": {
    "collapsed": false
   },
   "outputs": [],
   "source": [
    "# set TRAINING and VALIDATION fractions\n",
    "# if train_frac + valid_frac < 1, the remainder will be allocated to the TEST set\n",
    "train_frac = 0.6\n",
    "valid_frac = 0.3\n",
    "\n",
    "# ensure that fractions do not exceed 100%\n",
    "assert (train_frac + valid_frac <= 1), \"Train and validation fractions must sum to at most 1...\""
   ]
  },
  {
   "cell_type": "code",
   "execution_count": 4,
   "metadata": {
    "collapsed": true
   },
   "outputs": [],
   "source": [
    "# recursive search function\n",
    "# returns a 2D list, each element is [filename,pathname]\n",
    "# designed to dive recursively into directory structure from a starting point given by dirPath of the initial call\n",
    "def getFileListing(dirPath):\n",
    "    thisFileList = []\n",
    "    thisDirListing = listdir(dirPath)\n",
    "    for f in thisDirListing:\n",
    "        fullFileName = dirPath + \"\\\\\" + f\n",
    "        if (isfile(fullFileName) == True):\n",
    "            thisFileList.append([f,dirPath])\n",
    "        if (isdir(fullFileName) == True):\n",
    "            for i in getFileListing( fullFileName ):\n",
    "                thisFileList.append(i)\n",
    "    return thisFileList"
   ]
  },
  {
   "cell_type": "code",
   "execution_count": 5,
   "metadata": {
    "collapsed": true
   },
   "outputs": [],
   "source": [
    "# get list of files starting from current directory\n",
    "allFiles = getFileListing(getcwd()+\"\\\\labeled\")"
   ]
  },
  {
   "cell_type": "code",
   "execution_count": 6,
   "metadata": {
    "collapsed": true
   },
   "outputs": [],
   "source": [
    "# extract 1-D lists of filenames and paths\n",
    "allFileNames = [row[0] for row in allFiles]\n",
    "allFilePaths = [row[1] for row in allFiles]"
   ]
  },
  {
   "cell_type": "code",
   "execution_count": 7,
   "metadata": {
    "collapsed": false
   },
   "outputs": [],
   "source": [
    "# create a new dataframe\n",
    "df = pd.DataFrame(columns=['Filename','Filepath','Label']);\n",
    "\n",
    "# search through all files, making note of PNG images\n",
    "for i in range(0,len(allFileNames)):\n",
    "    thisFileName = allFileNames[i]\n",
    "    thisFilePath = allFilePaths[i]\n",
    "    thisExtension = thisFileName[-4:]\n",
    "    if( thisExtension == '.png'):\n",
    "        if( thisFilePath[thisFilePath.rfind('\\\\')+1:] == \"true\"):\n",
    "            label = 1\n",
    "        else:\n",
    "            label = 0\n",
    "        df = df.append({'Filename':thisFileName,'Filepath':thisFilePath,'Label':label}, ignore_index=True)\n",
    "\n",
    "# sort files by name and write along with label to CSV file        \n",
    "df['Label']=df['Label'].astype('int')\n",
    "df = df.sort_values(by='Filename')\n",
    "df.to_csv('all_labels.csv',columns=['Filename','Label'],index=False)"
   ]
  },
  {
   "cell_type": "code",
   "execution_count": 8,
   "metadata": {
    "collapsed": false
   },
   "outputs": [],
   "source": [
    "# randomize data\n",
    "df = df.loc[np.random.permutation(df.index)]\n",
    "\n",
    "# identify training set\n",
    "train_n = round(train_frac*len(df))\n",
    "\n",
    "# when USING a TEST set\n",
    "if( train_frac + valid_frac < 1 ):\n",
    "    valid_n = round(valid_frac*len(df))\n",
    "    test_n = len(df) - (train_n + valid_n)\n",
    "    \n",
    "# when NOT using a TEST set\n",
    "elif(train_frac+valid_frac == 1):\n",
    "    valid_n = len(df) - train_n\n",
    "    test_n = 0"
   ]
  },
  {
   "cell_type": "code",
   "execution_count": 9,
   "metadata": {
    "collapsed": false
   },
   "outputs": [],
   "source": [
    "# add partition to dataframe\n",
    "df['Partition'] = pd.Series(np.concatenate((np.zeros(train_n),np.ones(valid_n),2*np.ones(test_n))), index=df.index)\n",
    "df['Partition']=df['Partition'].astype('int')\n",
    "df = df.sort_values(by='Filename')"
   ]
  },
  {
   "cell_type": "code",
   "execution_count": 10,
   "metadata": {
    "collapsed": false
   },
   "outputs": [
    {
     "name": "stdout",
     "output_type": "stream",
     "text": [
      "Train True: 61.29%, Train False 38.71%\n",
      "Valid True: 60.44%, Valid False 39.56%\n",
      "Test True: 58.09%, Test False 41.91%\n"
     ]
    }
   ],
   "source": [
    "train_perc = 100*len(df[(df['Partition']==0) & (df['Label']==1)]) / len(df[df['Partition']==0])\n",
    "valid_perc = 100*len(df[(df['Partition']==1) & (df['Label']==1)]) / len(df[df['Partition']==1])\n",
    "test_perc = 100*len(df[(df['Partition']==2) & (df['Label']==1)]) / len(df[df['Partition']==2])\n",
    "\n",
    "print(\"Train True: %0.2f%%, Train False %0.2f%%\" % (train_perc,100-train_perc))\n",
    "print(\"Valid True: %0.2f%%, Valid False %0.2f%%\" % (valid_perc,100-valid_perc))\n",
    "if(train_frac + valid_frac < 1):\n",
    "    print(\"Test True: %0.2f%%, Test False %0.2f%%\" % (test_perc,100-test_perc))"
   ]
  },
  {
   "cell_type": "code",
   "execution_count": 11,
   "metadata": {
    "collapsed": false
   },
   "outputs": [],
   "source": [
    "# copy TRAINING files\n",
    "thisdir = getcwd()+\"\\\\train\"\n",
    "if(not(isdir(thisdir))):\n",
    "    mkdir(thisdir)\n",
    "if(not(isdir(thisdir+\"\\\\true\"))):\n",
    "    mkdir(thisdir+\"\\\\true\")\n",
    "if(not(isdir(thisdir+\"\\\\false\"))):\n",
    "    mkdir(thisdir+\"\\\\false\")\n",
    "\n",
    "train = df[df['Partition']==0]\n",
    "for index, row in train.iterrows():\n",
    "    if(row['Label'] == 1):\n",
    "        copy2(row['Filepath']+'\\\\'+row['Filename'],thisdir+\"\\\\true\\\\\"+row['Filename'])\n",
    "    else:\n",
    "        copy2(row['Filepath']+'\\\\'+row['Filename'],thisdir+\"\\\\false\\\\\"+row['Filename'])\n",
    "    "
   ]
  },
  {
   "cell_type": "code",
   "execution_count": 12,
   "metadata": {
    "collapsed": true
   },
   "outputs": [],
   "source": [
    "# copy VALIDATION files\n",
    "thisdir = getcwd()+\"\\\\valid\"\n",
    "if(not(isdir(thisdir))):\n",
    "    mkdir(thisdir)\n",
    "if(not(isdir(thisdir+\"\\\\true\"))):\n",
    "    mkdir(thisdir+\"\\\\true\")\n",
    "if(not(isdir(thisdir+\"\\\\false\"))):\n",
    "    mkdir(thisdir+\"\\\\false\")\n",
    "\n",
    "valid = df[df['Partition']==1]\n",
    "for index, row in valid.iterrows():\n",
    "    if(row['Label'] == 1):\n",
    "        copy2(row['Filepath']+'\\\\'+row['Filename'],thisdir+\"\\\\true\\\\\"+row['Filename'])\n",
    "    else:\n",
    "        copy2(row['Filepath']+'\\\\'+row['Filename'],thisdir+\"\\\\false\\\\\"+row['Filename'])\n",
    "    "
   ]
  },
  {
   "cell_type": "code",
   "execution_count": 13,
   "metadata": {
    "collapsed": false
   },
   "outputs": [],
   "source": [
    "# copy TEST files\n",
    "if 'test' in locals():\n",
    "\n",
    "    thisdir = getcwd()+\"\\\\test\"\n",
    "    if(not(isdir(thisdir))):\n",
    "        mkdir(thisdir)\n",
    "    if(not(isdir(thisdir+\"\\\\true\"))):\n",
    "        mkdir(thisdir+\"\\\\true\")\n",
    "    if(not(isdir(thisdir+\"\\\\false\"))):\n",
    "        mkdir(thisdir+\"\\\\false\")\n",
    "\n",
    "    test = df[df['Partition']==2]\n",
    "    for index, row in test.iterrows():\n",
    "        if(row['Label'] == 1):\n",
    "            copy2(row['Filepath']+'\\\\'+row['Filename'],thisdir+\"\\\\true\\\\\"+row['Filename'])\n",
    "        else:\n",
    "            copy2(row['Filepath']+'\\\\'+row['Filename'],thisdir+\"\\\\false\\\\\"+row['Filename'])"
   ]
  }
 ],
 "metadata": {
  "anaconda-cloud": {},
  "kernelspec": {
   "display_name": "Python [default]",
   "language": "python",
   "name": "python3"
  },
  "language_info": {
   "codemirror_mode": {
    "name": "ipython",
    "version": 3
   },
   "file_extension": ".py",
   "mimetype": "text/x-python",
   "name": "python",
   "nbconvert_exporter": "python",
   "pygments_lexer": "ipython3",
   "version": "3.5.2"
  }
 },
 "nbformat": 4,
 "nbformat_minor": 2
}
