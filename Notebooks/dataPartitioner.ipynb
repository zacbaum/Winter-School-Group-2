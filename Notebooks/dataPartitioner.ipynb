{
 "cells": [
  {
   "cell_type": "code",
   "execution_count": null,
   "metadata": {
    "collapsed": true
   },
   "outputs": [],
   "source": [
    "# generate a list of all files in folders named \"true\" and \"false\"\n",
    "# flagging those in \"true\" with the label 1\n",
    "# and those in any other folder with the label 0"
   ]
  },
  {
   "cell_type": "code",
   "execution_count": null,
   "metadata": {
    "collapsed": true
   },
   "outputs": [],
   "source": [
    "# import required dependencies\n",
    "from os import listdir, getcwd, mkdir\n",
    "from os.path import isfile, isdir\n",
    "import numpy as np\n",
    "import pandas as pd\n",
    "from shutil import copy2"
   ]
  },
  {
   "cell_type": "code",
   "execution_count": null,
   "metadata": {
    "collapsed": false
   },
   "outputs": [],
   "source": [
    "# set TRAINING and VALIDATION fractions\n",
    "# if train_frac + valid_frac < 1, the remainder will be allocated to the TEST set\n",
    "train_frac = 0.6\n",
    "valid_frac = 0.3\n",
    "\n",
    "# ensure that fractions do not exceed 100%\n",
    "assert (train_frac + valid_frac <= 1), \"Train and validation fractions must sum to at most 1...\""
   ]
  },
  {
   "cell_type": "code",
   "execution_count": null,
   "metadata": {
    "collapsed": true
   },
   "outputs": [],
   "source": [
    "# recursive search function\n",
    "# returns a 2D list, each element is [filename,pathname]\n",
    "# designed to dive recursively into directory structure from a starting point given by dirPath of the initial call\n",
    "def getFileListing(dirPath):\n",
    "    thisFileList = []\n",
    "    thisDirListing = listdir(dirPath)\n",
    "    for f in thisDirListing:\n",
    "        fullFileName = dirPath + \"\\\\\" + f\n",
    "        if (isfile(fullFileName) == True):\n",
    "            thisFileList.append([f,dirPath])\n",
    "        if (isdir(fullFileName) == True):\n",
    "            for i in getFileListing( fullFileName ):\n",
    "                thisFileList.append(i)\n",
    "    return thisFileList"
   ]
  },
  {
   "cell_type": "code",
   "execution_count": null,
   "metadata": {
    "collapsed": true
   },
   "outputs": [],
   "source": [
    "# get list of files starting from current directory\n",
    "allFiles = getFileListing(getcwd()+\"\\\\labeled\")"
   ]
  },
  {
   "cell_type": "code",
   "execution_count": null,
   "metadata": {
    "collapsed": true
   },
   "outputs": [],
   "source": [
    "# extract 1-D lists of filenames and paths\n",
    "allFileNames = [row[0] for row in allFiles]\n",
    "allFilePaths = [row[1] for row in allFiles]"
   ]
  },
  {
   "cell_type": "code",
   "execution_count": null,
   "metadata": {
    "collapsed": false
   },
   "outputs": [],
   "source": [
    "# create a new dataframe\n",
    "df = pd.DataFrame(columns=['Filename','Filepath','Label']);\n",
    "\n",
    "# search through all files, making note of PNG images\n",
    "for i in range(0,len(allFileNames)):\n",
    "    thisFileName = allFileNames[i]\n",
    "    thisFilePath = allFilePaths[i]\n",
    "    thisExtension = thisFileName[-4:]\n",
    "    if( thisExtension == '.png'):\n",
    "        if( thisFilePath[thisFilePath.rfind('\\\\')+1:] == \"true\"):\n",
    "            label = 1\n",
    "        else:\n",
    "            label = 0\n",
    "        df = df.append({'Filename':thisFileName,'Filepath':thisFilePath,'Label':label}, ignore_index=True)\n",
    "\n",
    "# sort files by name and write along with label to CSV file        \n",
    "df['Label']=df['Label'].astype('int')\n",
    "df = df.sort_values(by='Filename')\n",
    "df.to_csv('all_labels.csv',columns=['Filename','Label'],index=False)"
   ]
  },
  {
   "cell_type": "code",
   "execution_count": null,
   "metadata": {
    "collapsed": false
   },
   "outputs": [],
   "source": [
    "# parition data into training, validation, and maybe test sets\n",
    "dfrand = df.loc[np.random.permutation(df.index)]\n",
    "train_n = round(train_frac*len(df))\n",
    "train = dfrand.iloc[range(0,train_n)]\n",
    "\n",
    "# when USING a TEST set\n",
    "if( train_frac + valid_frac < 1 ):\n",
    "    valid_n = round(valid_frac*len(df))\n",
    "    valid = dfrand.iloc[range(train_n,train_n+valid_n)]\n",
    "    test = dfrand.iloc[range(train_n+valid_n,len(df))]\n",
    "    \n",
    "# when NOT using a TEST set\n",
    "elif(train_frac+valid_frac == 1):\n",
    "    valid = dfrand.iloc[range(train_n,len(df))]"
   ]
  },
  {
   "cell_type": "code",
   "execution_count": null,
   "metadata": {
    "collapsed": true
   },
   "outputs": [],
   "source": [
    "print(\"Train True: %0.2f%%, Train False %0.2f%%\" % ((100*len(train.loc[train['Label'] == 1])/len(train)), (100*len(train.loc[train['Label']== 0])/len(train))))\n",
    "print(\"Valid True: %0.2f%%, Valid False %0.2f%%\" % ((100*len(valid.loc[valid['Label'] == 1])/len(valid)), (100*len(valid.loc[valid['Label']== 0])/len(valid))))\n",
    "if(train_frac + valid_frac < 1):\n",
    "    print(\"Test True: %0.2f%%, Test False %0.2f%%\" % ((100*len(test.loc[test['Label'] == 1])/len(test)), (100*len(test.loc[test['Label']== 0])/len(test))))"
   ]
  },
  {
   "cell_type": "code",
   "execution_count": null,
   "metadata": {
    "collapsed": false
   },
   "outputs": [],
   "source": [
    "# copy TRAINING files\n",
    "thisdir = getcwd()+\"\\\\train\"\n",
    "if(not(isdir(thisdir))):\n",
    "    mkdir(thisdir)\n",
    "if(not(isdir(thisdir+\"\\\\true\"))):\n",
    "    mkdir(thisdir+\"\\\\true\")\n",
    "if(not(isdir(thisdir+\"\\\\false\"))):\n",
    "    mkdir(thisdir+\"\\\\false\")\n",
    "\n",
    "for index, row in train.iterrows():\n",
    "    if(row['Label'] == 1):\n",
    "        copy2(row['Filepath']+'\\\\'+row['Filename'],thisdir+\"\\\\true\\\\\"+row['Filename'])\n",
    "    else:\n",
    "        copy2(row['Filepath']+'\\\\'+row['Filename'],thisdir+\"\\\\false\\\\\"+row['Filename'])\n",
    "    "
   ]
  },
  {
   "cell_type": "code",
   "execution_count": null,
   "metadata": {
    "collapsed": true
   },
   "outputs": [],
   "source": [
    "# copy VALIDATION files\n",
    "thisdir = getcwd()+\"\\\\valid\"\n",
    "if(not(isdir(thisdir))):\n",
    "    mkdir(thisdir)\n",
    "if(not(isdir(thisdir+\"\\\\true\"))):\n",
    "    mkdir(thisdir+\"\\\\true\")\n",
    "if(not(isdir(thisdir+\"\\\\false\"))):\n",
    "    mkdir(thisdir+\"\\\\false\")\n",
    "\n",
    "for index, row in valid.iterrows():\n",
    "    if(row['Label'] == 1):\n",
    "        copy2(row['Filepath']+'\\\\'+row['Filename'],thisdir+\"\\\\true\\\\\"+row['Filename'])\n",
    "    else:\n",
    "        copy2(row['Filepath']+'\\\\'+row['Filename'],thisdir+\"\\\\false\\\\\"+row['Filename'])\n",
    "    "
   ]
  },
  {
   "cell_type": "code",
   "execution_count": null,
   "metadata": {
    "collapsed": false
   },
   "outputs": [],
   "source": [
    "# copy TEST files\n",
    "if 'test' in locals():\n",
    "\n",
    "    thisdir = getcwd()+\"\\\\test\"\n",
    "    if(not(isdir(thisdir))):\n",
    "        mkdir(thisdir)\n",
    "    if(not(isdir(thisdir+\"\\\\true\"))):\n",
    "        mkdir(thisdir+\"\\\\true\")\n",
    "    if(not(isdir(thisdir+\"\\\\false\"))):\n",
    "        mkdir(thisdir+\"\\\\false\")\n",
    "\n",
    "    for index, row in test.iterrows():\n",
    "        if(row['Label'] == 1):\n",
    "            copy2(row['Filepath']+'\\\\'+row['Filename'],thisdir+\"\\\\true\\\\\"+row['Filename'])\n",
    "        else:\n",
    "            copy2(row['Filepath']+'\\\\'+row['Filename'],thisdir+\"\\\\false\\\\\"+row['Filename'])"
   ]
  }
 ],
 "metadata": {
  "anaconda-cloud": {},
  "kernelspec": {
   "display_name": "Python [default]",
   "language": "python",
   "name": "python3"
  },
  "language_info": {
   "codemirror_mode": {
    "name": "ipython",
    "version": 3
   },
   "file_extension": ".py",
   "mimetype": "text/x-python",
   "name": "python",
   "nbconvert_exporter": "python",
   "pygments_lexer": "ipython3",
   "version": "3.5.2"
  }
 },
 "nbformat": 4,
 "nbformat_minor": 2
}
