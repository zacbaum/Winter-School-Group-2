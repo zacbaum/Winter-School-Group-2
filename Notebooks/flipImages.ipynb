{
 "cells": [
  {
   "cell_type": "code",
   "execution_count": 1,
   "metadata": {
    "collapsed": true
   },
   "outputs": [],
   "source": [
    "# generate a list of all PNG files in speific subfolder\n",
    "# create a copy of each flipped about the vertical axis\n",
    "# requires ImageMagick << convert >> binary, may only run on Windows?"
   ]
  },
  {
   "cell_type": "code",
   "execution_count": 2,
   "metadata": {
    "collapsed": true
   },
   "outputs": [],
   "source": [
    "# import required dependencies\n",
    "from os import listdir, getcwd, mkdir, system\n",
    "from os.path import isfile, isdir\n",
    "import numpy as np\n",
    "import pandas as pd\n",
    "from shutil import copy2\n",
    "from subprocess import call"
   ]
  },
  {
   "cell_type": "code",
   "execution_count": 3,
   "metadata": {
    "collapsed": true
   },
   "outputs": [],
   "source": [
    "# recursive search function\n",
    "# returns a 2D list, each element is [filename,pathname]\n",
    "# designed to dive recursively into directory structure from a starting point given by dirPath of the initial call\n",
    "def getFileListing(dirPath):\n",
    "    thisFileList = []\n",
    "    thisDirListing = listdir(dirPath)\n",
    "    for f in thisDirListing:\n",
    "        fullFileName = dirPath + \"\\\\\" + f\n",
    "        if (isfile(fullFileName) == True):\n",
    "            thisFileList.append([f,dirPath])\n",
    "        if (isdir(fullFileName) == True):\n",
    "            for i in getFileListing( fullFileName ):\n",
    "                thisFileList.append(i)\n",
    "    return thisFileList"
   ]
  },
  {
   "cell_type": "code",
   "execution_count": 4,
   "metadata": {
    "collapsed": true
   },
   "outputs": [],
   "source": [
    "# get list of files starting from specified directory\n",
    "allFiles = getFileListing(getcwd()+\"\\\\labeled_flipped\")"
   ]
  },
  {
   "cell_type": "code",
   "execution_count": 5,
   "metadata": {
    "collapsed": true
   },
   "outputs": [],
   "source": [
    "# extract 1-D lists of filenames and paths\n",
    "allFileNames = [row[0] for row in allFiles]\n",
    "allFilePaths = [row[1] for row in allFiles]"
   ]
  },
  {
   "cell_type": "code",
   "execution_count": 6,
   "metadata": {
    "collapsed": false
   },
   "outputs": [],
   "source": [
    "# create a new dataframe\n",
    "df = pd.DataFrame(columns=['Filename','Filepath','Label']);\n",
    "\n",
    "# search through all files\n",
    "# make a flipped copy of each PNG image\n",
    "for i in range(0,len(allFileNames)):\n",
    "    thisFileName = allFileNames[i]\n",
    "    thisFilePath = allFilePaths[i]\n",
    "    thisExtension = thisFileName[-4:]\n",
    "    if( thisExtension == '.png'):\n",
    "        system(\"convert -flop \" + thisFilePath+'\\\\'+thisFileName + \" \"+thisFilePath+'\\\\'+thisFileName[:-4]+\"_flip.png\")"
   ]
  }
 ],
 "metadata": {
  "anaconda-cloud": {},
  "kernelspec": {
   "display_name": "Python [default]",
   "language": "python",
   "name": "python3"
  },
  "language_info": {
   "codemirror_mode": {
    "name": "ipython",
    "version": 3
   },
   "file_extension": ".py",
   "mimetype": "text/x-python",
   "name": "python",
   "nbconvert_exporter": "python",
   "pygments_lexer": "ipython3",
   "version": "3.5.2"
  }
 },
 "nbformat": 4,
 "nbformat_minor": 2
}
