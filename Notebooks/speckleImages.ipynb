{
 "cells": [
  {
   "cell_type": "code",
   "execution_count": 1,
   "metadata": {
    "collapsed": true
   },
   "outputs": [],
   "source": [
    "# generate a list of all files in folders named \"true\" and \"false\"\n",
    "# flagging those in \"true\" with the label 1\n",
    "# and those in any other folder with the label 0\n",
    "#\n",
    "# video cropping and extraction done previously using ffmpeg:\n",
    "#   ffmpeg -i t001.avi -filter:v \"crop=99:364:350:83\" t001_out.avi\n",
    "#   ffmpeg -i t001_out.avi -f image2 t001_%04d.png"
   ]
  },
  {
   "cell_type": "code",
   "execution_count": 2,
   "metadata": {
    "collapsed": true
   },
   "outputs": [],
   "source": [
    "# import required dependencies\n",
    "from os import listdir, getcwd, mkdir, system\n",
    "from os.path import isfile, isdir\n",
    "import numpy as np\n",
    "import pandas as pd\n",
    "from shutil import copy2\n",
    "from subprocess import call"
   ]
  },
  {
   "cell_type": "code",
   "execution_count": 3,
   "metadata": {
    "collapsed": true
   },
   "outputs": [],
   "source": [
    "# recursive search function\n",
    "# returns a 2D list, each element is [filename,pathname]\n",
    "# designed to dive recursively into directory structure from a starting point given by dirPath of the initial call\n",
    "def getFileListing(dirPath):\n",
    "    thisFileList = []\n",
    "    thisDirListing = listdir(dirPath)\n",
    "    for f in thisDirListing:\n",
    "        fullFileName = dirPath + \"\\\\\" + f\n",
    "        if (isfile(fullFileName) == True):\n",
    "            thisFileList.append([f,dirPath])\n",
    "        if (isdir(fullFileName) == True):\n",
    "            for i in getFileListing( fullFileName ):\n",
    "                thisFileList.append(i)\n",
    "    return thisFileList"
   ]
  },
  {
   "cell_type": "code",
   "execution_count": 4,
   "metadata": {
    "collapsed": true
   },
   "outputs": [],
   "source": [
    "# get list of files starting from current directory\n",
    "allFiles = getFileListing(getcwd()+\"\\\\labeled_speckle\")"
   ]
  },
  {
   "cell_type": "code",
   "execution_count": 5,
   "metadata": {
    "collapsed": true
   },
   "outputs": [],
   "source": [
    "# extract 1-D lists of filenames and paths\n",
    "allFileNames = [row[0] for row in allFiles]\n",
    "allFilePaths = [row[1] for row in allFiles]"
   ]
  },
  {
   "cell_type": "code",
   "execution_count": 6,
   "metadata": {
    "collapsed": false
   },
   "outputs": [],
   "source": [
    "# create a new dataframe\n",
    "df = pd.DataFrame(columns=['Filename','Filepath','Label']);\n",
    "\n",
    "# search through all files, making note of PNG images\n",
    "for i in range(0,len(allFileNames)):\n",
    "    thisFileName = allFileNames[i]\n",
    "    thisFilePath = allFilePaths[i]\n",
    "    thisExtension = thisFileName[-4:]\n",
    "    if( thisExtension == '.png'):\n",
    "        origFile = thisFilePath+'\\\\'+thisFileName\n",
    "        \n",
    "        # replace orignial file with\n",
    "        system(\"convert -colorspace Gray \" + origFile + \" \" + origFile)\n",
    "        \n",
    "        # replace \n",
    "        system(\"convert -set colorspace Gray -attenuate 2 +noise gaussian \" + origFile +\" \" +origFile[:-4]+\"_speckle.png\")"
   ]
  },
  {
   "cell_type": "raw",
   "metadata": {},
   "source": []
  }
 ],
 "metadata": {
  "anaconda-cloud": {},
  "kernelspec": {
   "display_name": "Python [default]",
   "language": "python",
   "name": "python3"
  },
  "language_info": {
   "codemirror_mode": {
    "name": "ipython",
    "version": 3
   },
   "file_extension": ".py",
   "mimetype": "text/x-python",
   "name": "python",
   "nbconvert_exporter": "python",
   "pygments_lexer": "ipython3",
   "version": "3.5.2"
  }
 },
 "nbformat": 4,
 "nbformat_minor": 2
}
